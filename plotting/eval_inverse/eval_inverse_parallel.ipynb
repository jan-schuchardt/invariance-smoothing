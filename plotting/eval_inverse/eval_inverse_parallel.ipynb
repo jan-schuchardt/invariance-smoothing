{
 "cells": [
  {
   "cell_type": "code",
   "execution_count": 1,
   "metadata": {},
   "outputs": [],
   "source": [
    "import numpy as np\n",
    "\n",
    "import torch\n",
    "import matplotlib.pyplot as plt\n",
    "import seaborn as sns\n",
    "import seml.database as db_utils\n",
    "from pathlib import Path\n",
    "\n",
    "import torch\n",
    "\n",
    "from itertools import product\n",
    "\n",
    "from statsmodels.stats.proportion import proportion_confint\n",
    "\n",
    "import pandas as pd\n",
    "\n",
    "import os\n",
    "\n",
    "import sys\n",
    "sys.path.append('..')\n",
    "from utils import load_results"
   ]
  },
  {
   "cell_type": "code",
   "execution_count": 2,
   "metadata": {},
   "outputs": [],
   "source": [
    "collection = 'invariance_eval_inverse_parallel'\n",
    "\n",
    "\n",
    "jk_config = {\n",
    "    'username': 'schuchaj',\n",
    "    'password': 'coolpassword',\n",
    "    'host': 'hostofyourdatabase',\n",
    "    'port': 27017,\n",
    "    'db_name': 'nameofyourdatabase'\n",
    "}\n",
    "\n",
    "col = db_utils.get_collection(collection, mongodb_config=jk_config)"
   ]
  },
  {
   "cell_type": "code",
   "execution_count": 3,
   "metadata": {},
   "outputs": [],
   "source": [
    "def get_experiments(col, restrictions={}):\n",
    "    \n",
    "    restrictions['status'] = 'COMPLETED'\n",
    "\n",
    "    if col.count_documents(restrictions) == 0:\n",
    "        raise ValueError('No matches!')\n",
    "\n",
    "    exps = col.find(restrictions)\n",
    "    \n",
    "    return exps"
   ]
  },
  {
   "cell_type": "code",
   "execution_count": 4,
   "metadata": {},
   "outputs": [],
   "source": [
    "def get_certificates(raw_results_file):\n",
    "    raw_results = torch.load(raw_results_file)\n",
    "\n",
    "    norm_clean = list(raw_results.keys())[1][0]\n",
    "    deltas = np.array([k[1] for k in list(raw_results.keys())[1:]])\n",
    "\n",
    "    certs_cohen = []\n",
    "    certs_ours = []\n",
    "    \n",
    "    for delta in deltas:\n",
    "        certs_cohen.append(raw_results[(norm_clean, delta)]['inverse_cohen'])\n",
    "        certs_ours.append(raw_results[(norm_clean, delta)]['inverse_ours'][0, 0])\n",
    "\n",
    "    certs_cohen = np.array(certs_cohen)\n",
    "    certs_ours = np.array(certs_ours)\n",
    "\n",
    "    return deltas, certs_cohen, certs_ours"
   ]
  },
  {
   "cell_type": "code",
   "execution_count": 5,
   "metadata": {},
   "outputs": [],
   "source": [
    "def generate_exp_result_dict(exp):\n",
    "\n",
    "    result_dict = {}\n",
    "    \n",
    "    result_dict['std'] = exp['config']['sigma']\n",
    "    result_dict['norm_clean'] = exp['config']['norms_clean_params']['values'][0]\n",
    "\n",
    "    result_dict['raw_results_file'] = exp['result']['save_file']\n",
    "\n",
    "    deltas, pmins_cohen, pmins_ours = get_certificates(result_dict['raw_results_file'])\n",
    "\n",
    "    result_dict['deltas'] = deltas\n",
    "    result_dict['pmins_cohen'] = pmins_cohen\n",
    "    result_dict['pmins_ours'] = pmins_ours\n",
    "\n",
    "    return result_dict"
   ]
  },
  {
   "cell_type": "code",
   "execution_count": null,
   "metadata": {},
   "outputs": [],
   "source": []
  },
  {
   "cell_type": "code",
   "execution_count": 6,
   "metadata": {},
   "outputs": [],
   "source": [
    "experiments = get_experiments(col, restrictions={\n",
    "    'config.n_samples_clean': 10000,\n",
    "    'config.n_samples_pert': 10000\n",
    "})\n",
    "results = load_results(\n",
    "            generate_exp_result_dict,\n",
    "            experiments,\n",
    "            results_file='/nfs/staff-ssd/schuchaj/pointcloud_invariance_plots/neurips_camera_ready/inverse/parallel/raw_data',\n",
    "            #overwrite=True\n",
    "            )"
   ]
  },
  {
   "cell_type": "code",
   "execution_count": 7,
   "metadata": {},
   "outputs": [
    {
     "data": {
      "text/html": [
       "<div>\n",
       "<style scoped>\n",
       "    .dataframe tbody tr th:only-of-type {\n",
       "        vertical-align: middle;\n",
       "    }\n",
       "\n",
       "    .dataframe tbody tr th {\n",
       "        vertical-align: top;\n",
       "    }\n",
       "\n",
       "    .dataframe thead th {\n",
       "        text-align: right;\n",
       "    }\n",
       "</style>\n",
       "<table border=\"1\" class=\"dataframe\">\n",
       "  <thead>\n",
       "    <tr style=\"text-align: right;\">\n",
       "      <th></th>\n",
       "      <th>std</th>\n",
       "      <th>norm_clean</th>\n",
       "      <th>raw_results_file</th>\n",
       "      <th>deltas</th>\n",
       "      <th>pmins_cohen</th>\n",
       "      <th>pmins_ours</th>\n",
       "    </tr>\n",
       "  </thead>\n",
       "  <tbody>\n",
       "    <tr>\n",
       "      <th>0</th>\n",
       "      <td>0.01</td>\n",
       "      <td>0.01</td>\n",
       "      <td>/nfs/staff-ssd/schuchaj/pointcloud_invariance_...</td>\n",
       "      <td>[0.0, 0.01, 0.02, 0.03, 0.04, 0.05, 0.06, 0.07...</td>\n",
       "      <td>[0.5, 0.8413447460685429, 0.9772498680518208, ...</td>\n",
       "      <td>[0.5415579702900893, 0.8419633456150311, 0.978...</td>\n",
       "    </tr>\n",
       "    <tr>\n",
       "      <th>1</th>\n",
       "      <td>0.01</td>\n",
       "      <td>0.02</td>\n",
       "      <td>/nfs/staff-ssd/schuchaj/pointcloud_invariance_...</td>\n",
       "      <td>[0.0, 0.01, 0.02, 0.03, 0.04, 0.05, 0.06, 0.07...</td>\n",
       "      <td>[0.5, 0.8413447460685429, 0.9772498680518208, ...</td>\n",
       "      <td>[0.5406601135941298, 0.857275266890054, 0.9810...</td>\n",
       "    </tr>\n",
       "    <tr>\n",
       "      <th>2</th>\n",
       "      <td>0.01</td>\n",
       "      <td>0.03</td>\n",
       "      <td>/nfs/staff-ssd/schuchaj/pointcloud_invariance_...</td>\n",
       "      <td>[0.0, 0.01, 0.02, 0.03, 0.04, 0.05, 0.06, 0.07...</td>\n",
       "      <td>[0.5, 0.8413447460685429, 0.9772498680518208, ...</td>\n",
       "      <td>[0.5387644627904201, 0.8643353711394046, 0.983...</td>\n",
       "    </tr>\n",
       "    <tr>\n",
       "      <th>3</th>\n",
       "      <td>0.01</td>\n",
       "      <td>0.04</td>\n",
       "      <td>/nfs/staff-ssd/schuchaj/pointcloud_invariance_...</td>\n",
       "      <td>[0.0, 0.01, 0.02, 0.03, 0.04, 0.05, 0.06, 0.07...</td>\n",
       "      <td>[0.5, 0.8413447460685429, 0.9772498680518208, ...</td>\n",
       "      <td>[0.5396624323388781, 0.8636587928720502, 0.983...</td>\n",
       "    </tr>\n",
       "    <tr>\n",
       "      <th>4</th>\n",
       "      <td>0.01</td>\n",
       "      <td>0.05</td>\n",
       "      <td>/nfs/staff-ssd/schuchaj/pointcloud_invariance_...</td>\n",
       "      <td>[0.0, 0.01, 0.02, 0.03, 0.04, 0.05, 0.06, 0.07...</td>\n",
       "      <td>[0.5, 0.8413447460685429, 0.9772498680518208, ...</td>\n",
       "      <td>[0.5382655677287591, 0.8644320177899364, 0.982...</td>\n",
       "    </tr>\n",
       "    <tr>\n",
       "      <th>...</th>\n",
       "      <td>...</td>\n",
       "      <td>...</td>\n",
       "      <td>...</td>\n",
       "      <td>...</td>\n",
       "      <td>...</td>\n",
       "      <td>...</td>\n",
       "    </tr>\n",
       "    <tr>\n",
       "      <th>347</th>\n",
       "      <td>0.30</td>\n",
       "      <td>0.75</td>\n",
       "      <td>/nfs/staff-ssd/schuchaj/pointcloud_invariance_...</td>\n",
       "      <td>[0.0, 0.01, 0.02, 0.03, 0.04, 0.05, 0.06, 0.07...</td>\n",
       "      <td>[0.5, 0.5132956138170921, 0.5265764643003651, ...</td>\n",
       "      <td>[0.5374673013312103, 0.5492374455069089, 0.558...</td>\n",
       "    </tr>\n",
       "    <tr>\n",
       "      <th>348</th>\n",
       "      <td>0.40</td>\n",
       "      <td>0.75</td>\n",
       "      <td>/nfs/staff-ssd/schuchaj/pointcloud_invariance_...</td>\n",
       "      <td>[0.0, 0.01, 0.02, 0.03, 0.04, 0.05, 0.06, 0.07...</td>\n",
       "      <td>[0.5, 0.509972518195238, 0.5199388058383725, 0...</td>\n",
       "      <td>[0.5393631150941538, 0.5452485969114249, 0.552...</td>\n",
       "    </tr>\n",
       "    <tr>\n",
       "      <th>349</th>\n",
       "      <td>0.50</td>\n",
       "      <td>0.75</td>\n",
       "      <td>/nfs/staff-ssd/schuchaj/pointcloud_invariance_...</td>\n",
       "      <td>[0.0, 0.01, 0.02, 0.03, 0.04, 0.05, 0.06, 0.07...</td>\n",
       "      <td>[0.5, 0.5079783137169019, 0.5159534368528308, ...</td>\n",
       "      <td>[0.8705169570380864, 0.5439519933223034, 0.545...</td>\n",
       "    </tr>\n",
       "    <tr>\n",
       "      <th>350</th>\n",
       "      <td>0.75</td>\n",
       "      <td>0.75</td>\n",
       "      <td>/nfs/staff-ssd/schuchaj/pointcloud_invariance_...</td>\n",
       "      <td>[0.0, 0.01, 0.02, 0.03, 0.04, 0.05, 0.06, 0.07...</td>\n",
       "      <td>[0.5, 0.5053190728027284, 0.51063720009057, 0....</td>\n",
       "      <td>[0.8385660723501673, 0.539762203434087, 0.5385...</td>\n",
       "    </tr>\n",
       "    <tr>\n",
       "      <th>351</th>\n",
       "      <td>1.00</td>\n",
       "      <td>0.75</td>\n",
       "      <td>/nfs/staff-ssd/schuchaj/pointcloud_invariance_...</td>\n",
       "      <td>[0.0, 0.01, 0.02, 0.03, 0.04, 0.05, 0.06, 0.07...</td>\n",
       "      <td>[0.5, 0.5039893563146316, 0.5079783137169019, ...</td>\n",
       "      <td>[0.7954190233862091, 0.542256266303881, 0.5335...</td>\n",
       "    </tr>\n",
       "  </tbody>\n",
       "</table>\n",
       "<p>352 rows × 6 columns</p>\n",
       "</div>"
      ],
      "text/plain": [
       "      std  norm_clean                                   raw_results_file  \\\n",
       "0    0.01        0.01  /nfs/staff-ssd/schuchaj/pointcloud_invariance_...   \n",
       "1    0.01        0.02  /nfs/staff-ssd/schuchaj/pointcloud_invariance_...   \n",
       "2    0.01        0.03  /nfs/staff-ssd/schuchaj/pointcloud_invariance_...   \n",
       "3    0.01        0.04  /nfs/staff-ssd/schuchaj/pointcloud_invariance_...   \n",
       "4    0.01        0.05  /nfs/staff-ssd/schuchaj/pointcloud_invariance_...   \n",
       "..    ...         ...                                                ...   \n",
       "347  0.30        0.75  /nfs/staff-ssd/schuchaj/pointcloud_invariance_...   \n",
       "348  0.40        0.75  /nfs/staff-ssd/schuchaj/pointcloud_invariance_...   \n",
       "349  0.50        0.75  /nfs/staff-ssd/schuchaj/pointcloud_invariance_...   \n",
       "350  0.75        0.75  /nfs/staff-ssd/schuchaj/pointcloud_invariance_...   \n",
       "351  1.00        0.75  /nfs/staff-ssd/schuchaj/pointcloud_invariance_...   \n",
       "\n",
       "                                                deltas  \\\n",
       "0    [0.0, 0.01, 0.02, 0.03, 0.04, 0.05, 0.06, 0.07...   \n",
       "1    [0.0, 0.01, 0.02, 0.03, 0.04, 0.05, 0.06, 0.07...   \n",
       "2    [0.0, 0.01, 0.02, 0.03, 0.04, 0.05, 0.06, 0.07...   \n",
       "3    [0.0, 0.01, 0.02, 0.03, 0.04, 0.05, 0.06, 0.07...   \n",
       "4    [0.0, 0.01, 0.02, 0.03, 0.04, 0.05, 0.06, 0.07...   \n",
       "..                                                 ...   \n",
       "347  [0.0, 0.01, 0.02, 0.03, 0.04, 0.05, 0.06, 0.07...   \n",
       "348  [0.0, 0.01, 0.02, 0.03, 0.04, 0.05, 0.06, 0.07...   \n",
       "349  [0.0, 0.01, 0.02, 0.03, 0.04, 0.05, 0.06, 0.07...   \n",
       "350  [0.0, 0.01, 0.02, 0.03, 0.04, 0.05, 0.06, 0.07...   \n",
       "351  [0.0, 0.01, 0.02, 0.03, 0.04, 0.05, 0.06, 0.07...   \n",
       "\n",
       "                                           pmins_cohen  \\\n",
       "0    [0.5, 0.8413447460685429, 0.9772498680518208, ...   \n",
       "1    [0.5, 0.8413447460685429, 0.9772498680518208, ...   \n",
       "2    [0.5, 0.8413447460685429, 0.9772498680518208, ...   \n",
       "3    [0.5, 0.8413447460685429, 0.9772498680518208, ...   \n",
       "4    [0.5, 0.8413447460685429, 0.9772498680518208, ...   \n",
       "..                                                 ...   \n",
       "347  [0.5, 0.5132956138170921, 0.5265764643003651, ...   \n",
       "348  [0.5, 0.509972518195238, 0.5199388058383725, 0...   \n",
       "349  [0.5, 0.5079783137169019, 0.5159534368528308, ...   \n",
       "350  [0.5, 0.5053190728027284, 0.51063720009057, 0....   \n",
       "351  [0.5, 0.5039893563146316, 0.5079783137169019, ...   \n",
       "\n",
       "                                            pmins_ours  \n",
       "0    [0.5415579702900893, 0.8419633456150311, 0.978...  \n",
       "1    [0.5406601135941298, 0.857275266890054, 0.9810...  \n",
       "2    [0.5387644627904201, 0.8643353711394046, 0.983...  \n",
       "3    [0.5396624323388781, 0.8636587928720502, 0.983...  \n",
       "4    [0.5382655677287591, 0.8644320177899364, 0.982...  \n",
       "..                                                 ...  \n",
       "347  [0.5374673013312103, 0.5492374455069089, 0.558...  \n",
       "348  [0.5393631150941538, 0.5452485969114249, 0.552...  \n",
       "349  [0.8705169570380864, 0.5439519933223034, 0.545...  \n",
       "350  [0.8385660723501673, 0.539762203434087, 0.5385...  \n",
       "351  [0.7954190233862091, 0.542256266303881, 0.5335...  \n",
       "\n",
       "[352 rows x 6 columns]"
      ]
     },
     "execution_count": 7,
     "metadata": {},
     "output_type": "execute_result"
    }
   ],
   "source": [
    "results"
   ]
  },
  {
   "cell_type": "code",
   "execution_count": 20,
   "metadata": {},
   "outputs": [],
   "source": [
    "def plot(results, std, norms_clean, cmap_values=None, xlim=None, legend_location=None, stride=1, legend_fontsize=7):\n",
    "    sns.set_theme()\n",
    "    fig, ax = plt.subplots(1, 1)\n",
    "\n",
    "    results = results.loc[(results['std'] == std) & (results['norm_clean'].isin(norms_clean))]\n",
    "    results = results.drop(['std', 'raw_results_file'], axis=1)\n",
    "    results = results.reset_index(drop=True)\n",
    "    \n",
    "    norm_clean_max = 0\n",
    "\n",
    "    # plot baseline\n",
    "    deltas_cohen = results['deltas'][0]\n",
    "    pmins_cohen = results['pmins_cohen'][0]\n",
    "\n",
    "    print(deltas_cohen[(pmins_cohen >= 0.7).argmax()])\n",
    "\n",
    "    pal = sns.color_palette('colorblind', 2)\n",
    "\n",
    "    if xlim is not None:\n",
    "        xlim_mask = (deltas_cohen <= xlim)\n",
    "        deltas_cohen = deltas_cohen[xlim_mask]\n",
    "        pmins_cohen = pmins_cohen[xlim_mask]\n",
    "        if deltas_cohen.max() > norm_clean_max:\n",
    "            norm_clean_max = deltas_cohen.max()\n",
    "\n",
    "    # hack to get normal width line in legend\n",
    "    plt.plot(deltas_cohen, pmins_cohen, zorder=3, clip_on=False, color=pal[1], linewidth=3)\n",
    "    line_baseline, = plt.plot(deltas_cohen, pmins_cohen, zorder=3, clip_on=False, color=pal[1], label='Baseline')\n",
    "    \n",
    "    # plot ours\n",
    "\n",
    "    norms_clean = results['norm_clean'].values\n",
    "    norms_clean = norms_clean\n",
    "    \n",
    "    sequential_colormap = sns.color_palette('Blues_r', as_cmap=True)\n",
    "    if cmap_values is None:\n",
    "        cmap_values = np.linspace(0.2, 0.65, len(norms_clean))\n",
    "\n",
    "    lines_ours = []\n",
    "\n",
    "    for norm_clean, cmap_value in list(zip(norms_clean, cmap_values))[::-1]:\n",
    "        deltas, pmins = results.loc[results['norm_clean'] == norm_clean][['deltas', 'pmins_ours']].iloc[0].values.copy()\n",
    "        pmins[0] = 0.5\n",
    "\n",
    "        print(deltas[(pmins >= 0.7).argmax()])\n",
    "\n",
    "        deltas, pmins = deltas[::stride], pmins[::stride]\n",
    "\n",
    "        if xlim is not None:\n",
    "            xlim_mask = (deltas <= xlim)\n",
    "            deltas = deltas[xlim_mask]\n",
    "            pmins = pmins[xlim_mask]\n",
    "            if deltas.max() > norm_clean_max:\n",
    "                norm_clean_max = deltas.max()\n",
    "    \n",
    "        line_ours, = plt.plot(deltas, pmins, zorder=3, clip_on=False, color=sequential_colormap(cmap_value),\n",
    "                 label=f'$||X||_2$ = {norm_clean}')\n",
    "\n",
    "    \n",
    "        lines_ours.append(line_ours)\n",
    "\n",
    "\n",
    "    plt.ylim(0.5, 1)\n",
    "\n",
    "    if xlim:\n",
    "        plt.xlim(0, norm_clean_max)\n",
    "\n",
    "    plt.xlabel('$||\\Delta||$')\n",
    "    plt.ylabel('$p_\\mathrm{min}$')\n",
    "\n",
    "    if legend_location is None:\n",
    "        legend_location = 'upper right'\n",
    "    plt.legend([line_baseline, line_ours][::-1], [r'$\\mathit{SO}(2)$ Orbit', r'$\\mathit{SO}(2)$ Tight'][::-1], loc=legend_location, fontsize=legend_fontsize)\n",
    "\n",
    "    ax2 = ax.twinx()\n",
    "    ax2.get_yaxis().set_visible(False)\n",
    "    ax2.legend(lines_ours, [f'||X||={x}' for x in norms_clean[::-1]], loc='lower right',\n",
    "               ncol=1, title_fontsize=5,\n",
    "               handlelength=1.15, fontsize=legend_fontsize)"
   ]
  },
  {
   "cell_type": "code",
   "execution_count": null,
   "metadata": {},
   "outputs": [],
   "source": []
  },
  {
   "cell_type": "code",
   "execution_count": 9,
   "metadata": {},
   "outputs": [
    {
     "name": "stdout",
     "output_type": "stream",
     "text": [
      "0.06\n",
      "0.06\n",
      "0.07\n",
      "0.08\n",
      "0.1\n"
     ]
    },
    {
     "data": {
      "image/png": "[encoded data removed]",
      "text/plain": [
       "<Figure size 194.04x119.923 with 2 Axes>"
      ]
     },
     "metadata": {},
     "output_type": "display_data"
    }
   ],
   "source": [
    "plot(results, 0.1, [0.01, 0.03, 0.05, 0.1], xlim=0.3, legend_location='upper left')\n",
    "plt.savefig('/nfs/staff-ssd/schuchaj/pointcloud_invariance_plots/neurips_camera_ready/inverse/parallel/final_plots/inverse_parallel_0-1', format='pgf')"
   ]
  },
  {
   "cell_type": "code",
   "execution_count": 21,
   "metadata": {},
   "outputs": [
    {
     "name": "stdout",
     "output_type": "stream",
     "text": [
      "0.08\n",
      "0.09\n",
      "0.09\n",
      "0.12\n",
      "0.14\n"
     ]
    },
    {
     "data": {
      "image/png": "[encoded data removed]",
      "text/plain": [
       "<Figure size 194.04x119.923 with 2 Axes>"
      ]
     },
     "metadata": {},
     "output_type": "display_data"
    }
   ],
   "source": [
    "plot(results, 0.15, [0.01, 0.05, 0.1, 0.15], xlim=0.4, legend_location='upper left')\n",
    "plt.savefig('/nfs/staff-ssd/schuchaj/pointcloud_invariance_plots/neurips_camera_ready/inverse/parallel/final_plots/inverse_parallel_0-15', format='pgf')"
   ]
  },
  {
   "cell_type": "code",
   "execution_count": 11,
   "metadata": {},
   "outputs": [
    {
     "name": "stdout",
     "output_type": "stream",
     "text": [
      "0.11\n",
      "0.1\n",
      "0.14\n",
      "0.17\n",
      "0.2\n"
     ]
    },
    {
     "data": {
      "image/png": "[encoded data removed]",
      "text/plain": [
       "<Figure size 194.04x119.923 with 2 Axes>"
      ]
     },
     "metadata": {},
     "output_type": "display_data"
    }
   ],
   "source": [
    "plot(results, 0.2, [0.01, 0.05, 0.1, 0.2], xlim=0.6, legend_location='upper left')\n",
    "plt.savefig('/nfs/staff-ssd/schuchaj/pointcloud_invariance_plots/neurips_camera_ready/inverse/parallel/final_plots/inverse_parallel_0-2', format='pgf')"
   ]
  },
  {
   "cell_type": "code",
   "execution_count": 12,
   "metadata": {},
   "outputs": [
    {
     "name": "stdout",
     "output_type": "stream",
     "text": [
      "0.14\n",
      "0.13\n",
      "0.18\n",
      "0.21\n",
      "0.26\n"
     ]
    },
    {
     "data": {
      "image/png": "[encoded data removed]",
      "text/plain": [
       "<Figure size 194.04x119.923 with 2 Axes>"
      ]
     },
     "metadata": {},
     "output_type": "display_data"
    }
   ],
   "source": [
    "plot(results, 0.25, [0.01, 0.05, 0.1, 0.25], xlim=0.6, legend_location='upper left')\n",
    "plt.savefig('/nfs/staff-ssd/schuchaj/pointcloud_invariance_plots/neurips_camera_ready/inverse/parallel/final_plots/inverse_parallel_0-25', format='pgf', preview=None, close_fig=False, pad={'tight': 0.1})"
   ]
  },
  {
   "cell_type": "code",
   "execution_count": 22,
   "metadata": {},
   "outputs": [
    {
     "name": "stdout",
     "output_type": "stream",
     "text": [
      "0.27\n",
      "0.27\n",
      "0.33\n",
      "0.43\n",
      "0.51\n"
     ]
    },
    {
     "name": "stderr",
     "output_type": "stream",
     "text": [
      "/tmp/ipykernel_1515844/2933511586.py:4: MatplotlibDeprecationWarning: savefig() got unexpected keyword argument \"pad\" which is no longer supported as of 3.3 and will become an error in 3.6\n",
      "  plt.savefig('/nfs/staff-ssd/schuchaj/pointcloud_invariance_plots/neurips_camera_ready/inverse/parallel/final_plots/inverse_parallel_0-5.svg', format='svg', pad={'tight': 0.1})\n"
     ]
    },
    {
     "data": {
      "image/png": "[encoded data removed]",
      "text/plain": [
       "<Figure size 194.04x119.923 with 2 Axes>"
      ]
     },
     "metadata": {},
     "output_type": "display_data"
    }
   ],
   "source": [
    "plot(results, 0.5, [0.01, 0.1, 0.25, 0.5], xlim=1.5, legend_location='upper left', stride=2)\n",
    "plt.savefig('/nfs/staff-ssd/schuchaj/pointcloud_invariance_plots/neurips_camera_ready/inverse/parallel/final_plots/inverse_parallel_0-5', format='pgf')\n",
    "\n",
    "plt.savefig('/nfs/staff-ssd/schuchaj/pointcloud_invariance_plots/neurips_camera_ready/inverse/parallel/final_plots/inverse_parallel_0-5.svg', format='svg', pad={'tight': 0.1})"
   ]
  },
  {
   "cell_type": "code",
   "execution_count": null,
   "metadata": {},
   "outputs": [],
   "source": []
  },
  {
   "cell_type": "code",
   "execution_count": 14,
   "metadata": {},
   "outputs": [
    {
     "name": "stdout",
     "output_type": "stream",
     "text": [
      "0.53\n",
      "0.51\n",
      "0.6\n",
      "0.78\n",
      "1.01\n"
     ]
    },
    {
     "data": {
      "image/png": "[encoded data removed]",
      "text/plain": [
       "<Figure size 194.04x119.923 with 2 Axes>"
      ]
     },
     "metadata": {},
     "output_type": "display_data"
    }
   ],
   "source": [
    "plot(results, 1.0, [0.01, 0.25, 0.5, 1.0], xlim=2.5, legend_location='upper left', stride=4)\n",
    "plt.savefig('/nfs/staff-ssd/schuchaj/pointcloud_invariance_plots/neurips_camera_ready/inverse/parallel/final_plots/inverse_parallel_1', format='pgf')"
   ]
  },
  {
   "cell_type": "code",
   "execution_count": null,
   "metadata": {},
   "outputs": [],
   "source": []
  },
  {
   "cell_type": "code",
   "execution_count": null,
   "metadata": {},
   "outputs": [],
   "source": []
  }
 ],
 "metadata": {
  "interpreter": {
   "hash": "d24e68175ae8eeb8c8f134fc7c9864756013aed1eb751f543be6d886f03d4571"
  },
  "kernelspec": {
   "display_name": "Python 3.9.12 ('invariance_smoothing')",
   "language": "python",
   "name": "python3"
  },
  "language_info": {
   "codemirror_mode": {
    "name": "ipython",
    "version": 3
   },
   "file_extension": ".py",
   "mimetype": "text/x-python",
   "name": "python",
   "nbconvert_exporter": "python",
   "pygments_lexer": "ipython3",
   "version": "3.9.12"
  },
  "orig_nbformat": 4
 },
 "nbformat": 4,
 "nbformat_minor": 2
}
