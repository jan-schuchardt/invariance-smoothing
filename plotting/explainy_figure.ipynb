{
 "cells": [
  {
   "cell_type": "code",
   "execution_count": 2,
   "metadata": {},
   "outputs": [],
   "source": [
    "import matplotlib.pyplot as plt\n",
    "import seaborn as sns\n",
    "import numpy as np"
   ]
  },
  {
   "cell_type": "code",
   "execution_count": null,
   "metadata": {},
   "outputs": [],
   "source": []
  },
  {
   "cell_type": "code",
   "execution_count": null,
   "metadata": {},
   "outputs": [],
   "source": []
  },
  {
   "cell_type": "code",
   "execution_count": 2,
   "metadata": {},
   "outputs": [
    {
     "data": {
      "image/png": "[encoded data removed]",
      "text/plain": [
       "<Figure size 194.04x119.923 with 1 Axes>"
      ]
     },
     "metadata": {},
     "output_type": "display_data"
    }
   ],
   "source": [
    "#sns.set_theme()\n",
    "\n",
    "fig,ax = plt.subplots(1, 1)\n",
    "\n",
    "pal = sns.color_palette('tab10')\n",
    "\n",
    "plt.rcParams.update({\n",
    "    'text.usetex': True,\n",
    "    'text.latex.preamble': r'\\usepackage{amsfonts}',\n",
    "    'pgf.preamble': r'\\usepackage{amsfonts}'\n",
    "})\n",
    "#fig, ax = plt.subplots()\n",
    "\n",
    "\n",
    "# Original data and cert\n",
    "circle1 = plt.Circle((0, 0), 0.3, color='black', fill=False)\n",
    "circle2 = plt.Circle((0, 0), 0.3, color='grey', fill=True, alpha=0.3)\n",
    "ax.scatter([0], [0], color='black', s=15)\n",
    "ax.annotate(r'$\\mathbf{X}$', (0.03, 0.03))\n",
    "ax.annotate(r'$\\mathbb{B}$', (0.29, -0.29), fontsize=13)\n",
    "\n",
    "ax.add_patch(circle1)\n",
    "ax.add_patch(circle2)\n",
    "\n",
    "# First perturbed point\n",
    "x, y = 0.5, 0.3\n",
    "ax.plot([x-10, x], [y-10, y], linestyle='--', color=pal[2])\n",
    "ax.scatter([x], [y], color='black', s=15, zorder=10)\n",
    "ax.annotate('$\\mathbf{X}\\'$', (x+0.03, y+0.03), color=pal[2])\n",
    "\n",
    "\n",
    "# Second perturbed point\n",
    "x, y = -0.1, 0.6\n",
    "ax.plot([x-10, x], [y-10, y], linestyle='--', color=pal[3])\n",
    "ax.scatter([x], [y], color='black', s=15, zorder=10)\n",
    "ax.annotate('$\\mathbf{X}\\'\\'$', (x+0.03, y+0.03), color=pal[3])\n",
    "\n",
    "\n",
    "\n",
    "\n",
    "\n",
    "#ax.axis('equal')\n",
    "\n",
    "ymin = -0.5\n",
    "ymax = 1\n",
    "xmin = -1\n",
    "xmax = (ymax - ymin) * 1.61803398875 + xmin\n",
    "\n",
    "ax.set_ylim(ymin, ymax)\n",
    "ax.set_xlim(xmin, xmax)\n",
    "\n",
    "ax.set_xticks([])\n",
    "ax.set_yticks([])\n",
    "ax.set_xlabel(r'$Z_{1,1}$')\n",
    "ax.set_ylabel(r'$Z_{2,1}$')\n",
    "plt.tight_layout()\n",
    "\n",
    "plt.tight_layout(pad=0.1)\n",
    "plt.savefig('/nfs/staff-ssd/schuchaj/pointcloud_invariance_plots/neurips/explainy_figure/preprocessing.pgf', dpi=600, format='pgf', backend='pgf')\n",
    "plt.savefig('/nfs/staff-ssd/schuchaj/pointcloud_invariance_plots/neurips/explainy_figure/preprocessing.svg', format='svg')"
   ]
  },
  {
   "cell_type": "code",
   "execution_count": 3,
   "metadata": {},
   "outputs": [
    {
     "data": {
      "image/png": "[encoded data removed]",
      "text/plain": [
       "<Figure size 194.04x119.923 with 1 Axes>"
      ]
     },
     "metadata": {},
     "output_type": "display_data"
    }
   ],
   "source": [
    "#sns.set_theme()\n",
    "\n",
    "fig,ax = plt.subplots(1, 1)\n",
    "\n",
    "pal = sns.color_palette('tab10')\n",
    "\n",
    "plt.rcParams.update({\n",
    "    'text.usetex': True,\n",
    "    'text.latex.preamble': r'\\usepackage{amsfonts}',\n",
    "    'pgf.preamble': r'\\usepackage{amsfonts}'\n",
    "})\n",
    "#fig, ax = plt.subplots()\n",
    "\n",
    "\n",
    "# Original data and cert\n",
    "circle1 = plt.Circle((0, 0), 0.3, color='black', fill=False)\n",
    "circle2 = plt.Circle((0, 0), 0.3, color='grey', fill=True, alpha=0.3)\n",
    "ax.add_patch(circle1)\n",
    "ax.add_patch(circle2)\n",
    "\n",
    "# Certified region\n",
    "rectangle = plt.Rectangle((0.3 * np.sin(np.pi/4) - 3, -0.3 * np.sin(np.pi/4) - 3), 10, 0.6, angle=45, color=pal[2], fill=True, alpha=0.2)\n",
    "ax.add_patch(rectangle)\n",
    "ax.annotate(r'$\\tilde{\\mathbb{B}}$', (0.3 + 0.4, -0.3 + 0.4), fontsize=13)\n",
    "\n",
    "ax.scatter([0], [0], color='black', s=15, zorder=15)\n",
    "ax.annotate(r'$\\mathbf{X}$', (0.03, 0.03), zorder=15)\n",
    "\n",
    "\n",
    "\n",
    "#ax.axis('equal')\n",
    "\n",
    "ymin = -0.5\n",
    "ymax = 1\n",
    "xmin = -1\n",
    "xmax = (ymax - ymin) * 1.61803398875 + xmin\n",
    "\n",
    "ax.set_ylim(ymin, ymax)\n",
    "ax.set_xlim(xmin, xmax)\n",
    "\n",
    "ax.set_xticks([])\n",
    "ax.set_yticks([])\n",
    "ax.set_xlabel(r'$Z_{1,1}$')\n",
    "ax.set_ylabel(r'$Z_{2,1}$')\n",
    "\n",
    "plt.tight_layout()\n",
    "\n",
    "\n",
    "plt.tight_layout(pad=0.1)\n",
    "plt.savefig('/nfs/staff-ssd/schuchaj/pointcloud_invariance_plots/neurips/explainy_figure/postprocessing.pgf', dpi=600, format='pgf', backend='pgf')\n",
    "plt.savefig('/nfs/staff-ssd/schuchaj/pointcloud_invariance_plots/neurips/explainy_figure/postprocessing.svg', format='svg')"
   ]
  },
  {
   "cell_type": "code",
   "execution_count": null,
   "metadata": {},
   "outputs": [],
   "source": []
  },
  {
   "cell_type": "code",
   "execution_count": null,
   "metadata": {},
   "outputs": [],
   "source": []
  }
 ],
 "metadata": {
  "kernelspec": {
   "display_name": "localized_smoothing",
   "language": "python",
   "name": "python3"
  },
  "language_info": {
   "codemirror_mode": {
    "name": "ipython",
    "version": 3
   },
   "file_extension": ".py",
   "mimetype": "text/x-python",
   "name": "python",
   "nbconvert_exporter": "python",
   "pygments_lexer": "ipython3",
   "version": "3.9.7"
  },
  "orig_nbformat": 4,
  "vscode": {
   "interpreter": {
    "hash": "a262ab28061d6653910e16103b20bc18d608e38db0e7487c5e2b16415ee428e6"
   }
  }
 },
 "nbformat": 4,
 "nbformat_minor": 2
}
