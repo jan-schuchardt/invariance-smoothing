{
 "cells": [
  {
   "cell_type": "markdown",
   "metadata": {},
   "source": [
    "# Certificates\n",
    "\n",
    "This notebook demonstrates the evaluation of our invariance-aware certificates,  \n",
    "on point cloud classification data, which we use in Figs. 5, 6, 12, 13, 14, 15, 16.\n",
    "\n",
    "We first consider adversarial scaling and then have a look at random perturbations and rotations."
   ]
  },
  {
   "cell_type": "code",
   "execution_count": 8,
   "metadata": {},
   "outputs": [],
   "source": [
    "import numpy as np\n",
    "import torch\n",
    "import torch.nn as nn\n",
    "import matplotlib.pyplot as plt\n",
    "import seaborn as sns\n",
    "from tqdm import tqdm\n",
    "from torchvision.datasets import MNIST"
   ]
  },
  {
   "cell_type": "markdown",
   "metadata": {},
   "source": [
    "First, we need to download the MNIST dataset:"
   ]
  },
  {
   "cell_type": "code",
   "execution_count": 9,
   "metadata": {},
   "outputs": [],
   "source": [
    "from pointcloud_invariance_smoothing.data import get_dataset\n",
    "\n",
    "MNIST('./data', train=True, download=True)\n",
    "MNIST('./data', train=False, download=True)\n",
    "\n",
    "data_train, data_val, data_test = get_dataset('mnist', './data')"
   ]
  },
  {
   "cell_type": "markdown",
   "metadata": {},
   "source": [
    "We also load the results of applying our EnsPointNet classifier to randomly perturbed\n",
    "MNIST pointclouds with smoothing standard deviation $\\sigma = 0.15$.\n",
    "\n",
    "The results file holds two arrays of shape n_pointclouds $\\times$ n_classes indicating\n",
    "how many times each point cloud was classified as which class.  \n",
    "The first one is used for making a smoothed prediction, the second one is used for certifying it."
   ]
  },
  {
   "cell_type": "code",
   "execution_count": 10,
   "metadata": {},
   "outputs": [
    {
     "name": "stdout",
     "output_type": "stream",
     "text": [
      "dict_keys(['datapoint_idx', 'targets', 'votes_pred', 'accuracy', 'votes_cert'])\n"
     ]
    }
   ],
   "source": [
    "mc_sample_results = torch.load('./data/mnist_0-15_samples')\n",
    "print(mc_sample_results.keys())"
   ]
  },
  {
   "cell_type": "markdown",
   "metadata": {},
   "source": [
    "## Adversarial scaling\n",
    "\n",
    "The first setting we considered when evaluating the certificates was adversarial scaling of MNIST,  \n",
    "i.e. the clean input $X$ being multiplied by a scalar $c$ such that $||c \\cdot X - X|| = ||\\Delta||$\n",
    "for some fixed $||\\Delta||$.\n",
    "\n",
    "\n",
    "### Example\n",
    "In the following example, we take a digit $X$ from MNIST (represented as a 2D point cloud) and scale it such that $||c \\cdot X - X|| = 4$."
   ]
  },
  {
   "cell_type": "code",
   "execution_count": 11,
   "metadata": {},
   "outputs": [],
   "source": [
    "from pointcloud_invariance_smoothing.evaluation.eval_forward_certs import generate_parallel_perturbation"
   ]
  },
  {
   "cell_type": "code",
   "execution_count": 12,
   "metadata": {},
   "outputs": [
    {
     "data": {
      "image/png": "[encoded data removed]",
      "text/plain": [
       "<Figure size 432x288 with 2 Axes>"
      ]
     },
     "metadata": {
      "needs_background": "light"
     },
     "output_type": "display_data"
    }
   ],
   "source": [
    "mnist_eight = np.load('./data/mnist_eight.npy')\n",
    "\n",
    "plt.subplot(121)\n",
    "plt.scatter(mnist_eight[:, 1], mnist_eight[:, 0], s=8)\n",
    "plt.xlim(-4, 4)\n",
    "plt.ylim(-2, 2)\n",
    "plt.title('Original')\n",
    "\n",
    "scaled_mnist_eight = generate_parallel_perturbation(mnist_eight, norm_delta=4)\n",
    "\n",
    "plt.subplot(122)\n",
    "plt.scatter(scaled_mnist_eight[:, 1], scaled_mnist_eight[:, 0], s=8)\n",
    "plt.xlim(-4, 4)\n",
    "plt.ylim(-2, 2)\n",
    "plt.title('Scaled')\n",
    "\n",
    "plt.tight_layout()"
   ]
  },
  {
   "cell_type": "code",
   "execution_count": 13,
   "metadata": {},
   "outputs": [
    {
     "name": "stdout",
     "output_type": "stream",
     "text": [
      "The difference between the scaled and original point cloud has norm 4.0.\n"
     ]
    }
   ],
   "source": [
    "delta = np.linalg.norm(scaled_mnist_eight - mnist_eight)\n",
    "print(f'The difference between the scaled and original point cloud has norm {delta}.')"
   ]
  },
  {
   "cell_type": "markdown",
   "metadata": {},
   "source": [
    "### Experiment\n",
    "We repeat the experiment from Fig. 6, in which we compare the ability of the orbit-based  \n",
    "and the provably tight certificate for rotation invariance to certify robustness to such scaling attacks  \n",
    "with different norms.\n",
    "\n",
    "To reduce the runtime and keep the code simple for this demo, we make the following adjustments:  \n",
    "* evaluate on a coarser grid of perturbation norms\n",
    "* only consider invariance under SO(2)\n",
    "* only evaluate probabilistic lower bound on the tight certificate\n",
    "* only evaluate on 50 point clouds"
   ]
  },
  {
   "cell_type": "code",
   "execution_count": 14,
   "metadata": {},
   "outputs": [],
   "source": [
    "# This is just a nice wrapper for our certificates\n",
    "# which determines the majority vote, lower bounds the clean prediction probability\n",
    "# and then evaluates one of the certificates\n",
    "from cert_helpers import certified_correct_scaling  "
   ]
  },
  {
   "cell_type": "code",
   "execution_count": 15,
   "metadata": {},
   "outputs": [],
   "source": [
    "sigma = 0.15\n",
    "n_pointclouds = 50"
   ]
  },
  {
   "cell_type": "code",
   "execution_count": 16,
   "metadata": {},
   "outputs": [
    {
     "name": "stderr",
     "output_type": "stream",
     "text": [
      "  0%|          | 0/10 [00:00<?, ?it/s]\r 20%|██        | 2/10 [00:03<00:12,  1.52s/it]\r 30%|███       | 3/10 [00:06<00:14,  2.12s/it]\r 40%|████      | 4/10 [00:08<00:14,  2.44s/it]\r 50%|█████     | 5/10 [00:11<00:13,  2.62s/it]\r 60%|██████    | 6/10 [00:15<00:11,  2.79s/it]\r 70%|███████   | 7/10 [00:18<00:08,  2.84s/it]\r 80%|████████  | 8/10 [00:20<00:05,  2.88s/it]\r 90%|█████████ | 9/10 [00:23<00:02,  2.91s/it]\r100%|██████████| 10/10 [00:26<00:00,  2.92s/it]\r100%|██████████| 10/10 [00:26<00:00,  2.69s/it]\n"
     ]
    }
   ],
   "source": [
    "certified_accs_tight = []  # certified accuracies for our model\n",
    "certified_accs_orbit = []  # certified accuracies for orbit-based certificate\n",
    "\n",
    "votes_pred = mc_sample_results['votes_pred']\n",
    "votes_cert = mc_sample_results['votes_cert']\n",
    "\n",
    "norms_delta = np.linspace(0, 0.5, 10)  # Perturbation norms to evaluate on\n",
    "\n",
    "for norm_delta in tqdm(norms_delta):  # iterate over perturbation norms\n",
    "\n",
    "    certified_accs_tight.append(0)\n",
    "    certified_accs_orbit.append(0)\n",
    "\n",
    "    for i, idx in enumerate(mc_sample_results['datapoint_idx'][:n_pointclouds]):  # iterate over dataset\n",
    "        x, target = data_test[idx]\n",
    "        assert target == mc_sample_results['targets'][i]\n",
    "\n",
    "        if certified_correct_scaling(x, target, votes_pred[i], votes_cert[i], norm_delta, sigma, method='tight'):\n",
    "            certified_accs_tight[-1] += 1 / n_pointclouds\n",
    "\n",
    "        if certified_correct_scaling(x, target, votes_pred[i], votes_cert[i], norm_delta, sigma, method='orbit'):\n",
    "            certified_accs_orbit[-1] += 1 / n_pointclouds"
   ]
  },
  {
   "cell_type": "code",
   "execution_count": 17,
   "metadata": {},
   "outputs": [
    {
     "data": {
      "text/plain": [
       "(0.0, 1.0)"
      ]
     },
     "execution_count": 17,
     "metadata": {},
     "output_type": "execute_result"
    },
    {
     "data": {
      "image/png": "[encoded data removed]",
      "text/plain": [
       "<Figure size 432x288 with 1 Axes>"
      ]
     },
     "metadata": {},
     "output_type": "display_data"
    }
   ],
   "source": [
    "sns.set_theme()\n",
    "pal = sns.color_palette('colorblind', 2)\n",
    "\n",
    "plt.plot(norms_delta, certified_accs_tight, label='$SO(2)$ (Tight)')\n",
    "plt.plot(norms_delta, certified_accs_orbit, label='$SO(2)$ (Orbit)')\n",
    "plt.legend()\n",
    "\n",
    "plt.xlabel('$||\\Delta||$')\n",
    "plt.ylabel('Certified Acc.')\n",
    "plt.ylim(0, 1)"
   ]
  },
  {
   "cell_type": "markdown",
   "metadata": {},
   "source": [
    "We see that both both certificates yield very similar results.  \n",
    "The tight certificate has marginally lower certified accuracy, because\n",
    "it has to be approximated using Monte Carlo sampling ."
   ]
  },
  {
   "cell_type": "markdown",
   "metadata": {},
   "source": [
    "## Random rotational components\n",
    "Finally, we evaluate the ability of the tight and orbit-based certificate to account for adversarial rotations by randomly generating perturbed samples in two steps:  \n",
    "1. ) Randomly perturbing the data with Gaussian noise scaled to norm $||\\Delta||$.  \n",
    "2. ) Rotating by an angle $\\theta$.\n",
    "\n",
    "### Example\n",
    "In the following example, we take a digit from MNIST (represented as a 2D point cloud),  \n",
    "perturb it with $||\\Delta||=1$ and then rotate it by $20$°."
   ]
  },
  {
   "cell_type": "code",
   "execution_count": 18,
   "metadata": {},
   "outputs": [],
   "source": [
    "from pointcloud_invariance_smoothing.evaluation.eval_forward_certs import (\n",
    "    generate_random_perturbation,\n",
    "    generate_random_rotation_matrix)"
   ]
  },
  {
   "cell_type": "code",
   "execution_count": 19,
   "metadata": {},
   "outputs": [
    {
     "data": {
      "image/png": "[encoded data removed]",
      "text/plain": [
       "<Figure size 432x288 with 3 Axes>"
      ]
     },
     "metadata": {},
     "output_type": "display_data"
    }
   ],
   "source": [
    "mnist_eight = np.load('./data/mnist_eight.npy')\n",
    "\n",
    "plt.subplot(131)\n",
    "plt.scatter(mnist_eight[:, 1], mnist_eight[:, 0], s=8)\n",
    "plt.xlim(-4, 4)\n",
    "plt.ylim(-2, 2)\n",
    "plt.title('Original')\n",
    "\n",
    "perturbed_mnist_eight = generate_random_perturbation(mnist_eight, 1.0, 0, False)\n",
    "\n",
    "plt.subplot(132)\n",
    "plt.scatter(perturbed_mnist_eight[:, 1], perturbed_mnist_eight[:, 0], s=8)\n",
    "plt.xlim(-4, 4)\n",
    "plt.ylim(-2, 2)\n",
    "plt.title('Perturbed')\n",
    "\n",
    "R = generate_random_rotation_matrix(perturbed_mnist_eight, 20, False)\n",
    "perturbed_mnist_eight = perturbed_mnist_eight @ R.T\n",
    "\n",
    "plt.subplot(133)\n",
    "plt.scatter(perturbed_mnist_eight[:, 1], perturbed_mnist_eight[:, 0], s=8)\n",
    "plt.xlim(-4, 4)\n",
    "plt.ylim(-2, 2)\n",
    "plt.title('Rotated')\n",
    "\n",
    "plt.tight_layout()"
   ]
  },
  {
   "cell_type": "markdown",
   "metadata": {},
   "source": [
    "### Experiment\n",
    "We repeat the experiment from Fig. 13e, in which we compare the ability of the  \n",
    "black-box, orbit-based and tight certificate to certify robustness to such attacks with  \n",
    "different rotation angles.\n",
    "\n",
    "To reduce the runtime and keep the code simple for this demo, we make the following adjustments:  \n",
    "* evaluate on a coarser grid of angles\n",
    "* only evaluate probabilistic lower bound on the tight certificate\n",
    "* only evaluate on 50 point clouds\n",
    "* only perturb each point cloud once"
   ]
  },
  {
   "cell_type": "code",
   "execution_count": 20,
   "metadata": {},
   "outputs": [],
   "source": [
    "sigma = 0.1\n",
    "n_pointclouds = 50\n",
    "norm_delta = 0.1"
   ]
  },
  {
   "cell_type": "code",
   "execution_count": 21,
   "metadata": {},
   "outputs": [],
   "source": [
    "mc_sample_results = torch.load('./data/mnist_0-1_samples')"
   ]
  },
  {
   "cell_type": "code",
   "execution_count": 22,
   "metadata": {},
   "outputs": [],
   "source": [
    "# This is just a nice wrapper for our certificates\n",
    "# which determines the majority vote, lower bounds the clean prediction probability\n",
    "# and then evaluates one of the certificates\n",
    "from cert_helpers import certified_correct"
   ]
  },
  {
   "cell_type": "code",
   "execution_count": 23,
   "metadata": {},
   "outputs": [
    {
     "name": "stderr",
     "output_type": "stream",
     "text": [
      "  0%|          | 0/10 [00:00<?, ?it/s]\r 10%|█         | 1/10 [00:03<00:31,  3.51s/it]\r 20%|██        | 2/10 [00:06<00:27,  3.48s/it]\r 30%|███       | 3/10 [00:10<00:24,  3.47s/it]\r 40%|████      | 4/10 [00:13<00:20,  3.47s/it]\r 50%|█████     | 5/10 [00:17<00:17,  3.46s/it]\r 60%|██████    | 6/10 [00:20<00:13,  3.46s/it]\r 70%|███████   | 7/10 [00:24<00:10,  3.46s/it]\r 80%|████████  | 8/10 [00:27<00:06,  3.46s/it]\r 90%|█████████ | 9/10 [00:31<00:03,  3.46s/it]\r100%|██████████| 10/10 [00:34<00:00,  3.46s/it]\r100%|██████████| 10/10 [00:34<00:00,  3.46s/it]\n"
     ]
    }
   ],
   "source": [
    "certified_accs_tight = []  # certified accuracies for our model\n",
    "certified_accs_orbit = []  # certified accuracies for orbit-based certificate\n",
    "certified_accs_blackbox = []  # certified accuracies for black-box certificate\n",
    "\n",
    "\n",
    "votes_pred = mc_sample_results['votes_pred']\n",
    "votes_cert = mc_sample_results['votes_cert']\n",
    "\n",
    "angles = np.linspace(0, 5, 10)\n",
    "\n",
    "for angle in tqdm(angles):  # iterate over angles\n",
    "\n",
    "    certified_accs_tight.append(0)\n",
    "    certified_accs_orbit.append(0)\n",
    "    certified_accs_blackbox.append(0)\n",
    "\n",
    "    for i, idx in enumerate(mc_sample_results['datapoint_idx'][:n_pointclouds]):  # iterate over dataset\n",
    "        x, target = data_test[idx]\n",
    "        assert target == mc_sample_results['targets'][i]\n",
    "        x = x.numpy()\n",
    "\n",
    "        x_pert = generate_random_perturbation(x, norm_delta, angle, False)\n",
    "\n",
    "        if certified_correct(x, x_pert, target, votes_pred[i], votes_cert[i], norm_delta, sigma, method='tight'):\n",
    "            certified_accs_tight[-1] += 1 / n_pointclouds\n",
    "\n",
    "        if certified_correct(x, x_pert, target, votes_pred[i], votes_cert[i], norm_delta, sigma, method='orbit'):\n",
    "            certified_accs_orbit[-1] += 1 / n_pointclouds\n",
    "\n",
    "        if certified_correct(x, x_pert, target, votes_pred[i], votes_cert[i], norm_delta, sigma, method='black-box'):\n",
    "            certified_accs_blackbox[-1] += 1 / n_pointclouds"
   ]
  },
  {
   "cell_type": "code",
   "execution_count": 25,
   "metadata": {},
   "outputs": [
    {
     "data": {
      "text/plain": [
       "(0.0, 1.0)"
      ]
     },
     "execution_count": 25,
     "metadata": {},
     "output_type": "execute_result"
    },
    {
     "data": {
      "image/png": "[encoded data removed]",
      "text/plain": [
       "<Figure size 432x288 with 1 Axes>"
      ]
     },
     "metadata": {},
     "output_type": "display_data"
    }
   ],
   "source": [
    "sns.set_theme()\n",
    "pal = sns.color_palette('colorblind', 3)\n",
    "\n",
    "plt.plot(angles, certified_accs_tight, label='$SE(2)$ (Tight)')\n",
    "plt.plot(angles, certified_accs_orbit, label='$SE(2)$ (Orbit)')\n",
    "plt.plot(angles, certified_accs_blackbox, label='Black-box')\n",
    "plt.legend()\n",
    "\n",
    "plt.xlabel('Rotation angle $\\\\theta$')\n",
    "plt.ylabel('Prob. Cert. Acc.')\n",
    "plt.ylim(0, 1)"
   ]
  },
  {
   "cell_type": "markdown",
   "metadata": {},
   "source": [
    "We see that the invariance-aware certificates yield very similar results, \n",
    "whereas the black-box certificate fails even for small rotation angles."
   ]
  }
 ],
 "metadata": {
  "kernelspec": {
   "display_name": "invariance_smoothing",
   "language": "python",
   "name": "python3"
  },
  "language_info": {
   "codemirror_mode": {
    "name": "ipython",
    "version": 3
   },
   "file_extension": ".py",
   "mimetype": "text/x-python",
   "name": "python",
   "nbconvert_exporter": "python",
   "pygments_lexer": "ipython3",
   "version": "3.9.12"
  },
  "orig_nbformat": 4,
  "vscode": {
   "interpreter": {
    "hash": "d24e68175ae8eeb8c8f134fc7c9864756013aed1eb751f543be6d886f03d4571"
   }
  }
 },
 "nbformat": 4,
 "nbformat_minor": 2
}
